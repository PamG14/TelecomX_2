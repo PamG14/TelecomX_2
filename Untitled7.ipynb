{
  "nbformat": 4,
  "nbformat_minor": 0,
  "metadata": {
    "colab": {
      "provenance": [],
      "authorship_tag": "ABX9TyOAkVsXNf2Dc+ZLmvmJ6K2h",
      "include_colab_link": true
    },
    "kernelspec": {
      "name": "python3",
      "display_name": "Python 3"
    },
    "language_info": {
      "name": "python"
    }
  },
  "cells": [
    {
      "cell_type": "markdown",
      "metadata": {
        "id": "view-in-github",
        "colab_type": "text"
      },
      "source": [
        "<a href=\"https://colab.research.google.com/github/PamG14/TelecomX_2/blob/main/Untitled7.ipynb\" target=\"_parent\"><img src=\"https://colab.research.google.com/assets/colab-badge.svg\" alt=\"Open In Colab\"/></a>"
      ]
    },
    {
      "cell_type": "code",
      "execution_count": 27,
      "metadata": {
        "id": "xJLfpBvn-WY-"
      },
      "outputs": [],
      "source": [
        "import pandas as pd\n"
      ]
    },
    {
      "cell_type": "code",
      "source": [
        "df = pd.read_json(\"json_limpio.json\")"
      ],
      "metadata": {
        "id": "IJ-mlwzX-9wR"
      },
      "execution_count": 28,
      "outputs": []
    },
    {
      "cell_type": "code",
      "source": [
        "df.head()      # Muestra las primeras 5 filas\n",
        "df.info()      # Muestra info de columnas, tipos de datos y nulos"
      ],
      "metadata": {
        "colab": {
          "base_uri": "https://localhost:8080/"
        },
        "collapsed": true,
        "id": "0ODAO_Zj_M7N",
        "outputId": "0ed5a8e1-67ca-4026-fa26-7af3a4ba0263"
      },
      "execution_count": 29,
      "outputs": [
        {
          "output_type": "stream",
          "name": "stdout",
          "text": [
            "<class 'pandas.core.frame.DataFrame'>\n",
            "RangeIndex: 7267 entries, 0 to 7266\n",
            "Data columns (total 6 columns):\n",
            " #   Column      Non-Null Count  Dtype \n",
            "---  ------      --------------  ----- \n",
            " 0   customerID  7267 non-null   object\n",
            " 1   Churn       7267 non-null   object\n",
            " 2   customer    7267 non-null   object\n",
            " 3   phone       7267 non-null   object\n",
            " 4   internet    7267 non-null   object\n",
            " 5   account     7267 non-null   object\n",
            "dtypes: object(6)\n",
            "memory usage: 340.8+ KB\n"
          ]
        }
      ]
    },
    {
      "cell_type": "code",
      "source": [
        "df = df.drop(columns=['customerID'])"
      ],
      "metadata": {
        "id": "NmyOUCYF_tBa"
      },
      "execution_count": 30,
      "outputs": []
    },
    {
      "cell_type": "code",
      "source": [
        "# Lista de columnas que contienen diccionarios\n",
        "dict_columns = ['customer', 'phone', 'internet', 'account']\n",
        "\n",
        "for col in dict_columns:\n",
        "    # Extraer todos los campos de cada diccionario y agregarlos al DataFrame\n",
        "    dict_df = df[col].apply(lambda x: x if isinstance(x, dict) else {}).apply(pd.Series)\n",
        "\n",
        "    # Renombrar las nuevas columnas con prefijo (para saber de dónde vienen)\n",
        "    dict_df = dict_df.add_prefix(f'{col}_')\n",
        "\n",
        "    # Agregar al DataFrame original\n",
        "    df = pd.concat([df, dict_df], axis=1)\n",
        "\n",
        "# Eliminar las columnas originales con diccionarios\n",
        "df = df.drop(columns=dict_columns)\n"
      ],
      "metadata": {
        "id": "jbE6yWFWBucY"
      },
      "execution_count": 33,
      "outputs": []
    },
    {
      "cell_type": "code",
      "source": [
        "# 1. Desanidar account_Charges\n",
        "charges_df = df['account_Charges'].apply(pd.Series)\n",
        "\n",
        "# 2. Renombrar columnas\n",
        "charges_df = charges_df.rename(columns={\n",
        "    'Monthly': 'account_Charges_Monthly',\n",
        "    'Total': 'account_Charges_Total'\n",
        "})\n",
        "\n",
        "# 3. Unir al DataFrame original\n",
        "df = pd.concat([df.drop(columns=['account_Charges']), charges_df], axis=1)\n",
        "\n",
        "# 4. Convertir a numérico\n",
        "df['account_Charges_Monthly'] = pd.to_numeric(df['account_Charges_Monthly'], errors='coerce')\n",
        "df['account_Charges_Total'] = pd.to_numeric(df['account_Charges_Total'], errors='coerce')\n"
      ],
      "metadata": {
        "id": "XwsQtHIaQy1s"
      },
      "execution_count": 34,
      "outputs": []
    },
    {
      "cell_type": "code",
      "source": [
        "categorical_cols = df.select_dtypes(include='object').columns.tolist()\n",
        "\n",
        "# Si no querés codificar 'Churn' todavía (porque es la target), la excluís\n",
        "categorical_cols.remove('Churn')\n",
        "\n",
        "# Hacés one-hot encoding solo sobre las categóricas\n",
        "df_encoded = pd.get_dummies(df, columns=categorical_cols, drop_first=True)\n",
        "\n",
        "# Transformás 'Churn' en la variable objetivo binaria\n",
        "df_encoded['Churn_Yes'] = (df['Churn'] == 'Yes').astype(int)\n"
      ],
      "metadata": {
        "id": "KSLFuNMgSIud"
      },
      "execution_count": 36,
      "outputs": []
    },
    {
      "cell_type": "code",
      "source": [
        "# Verificamos qué columnas son categóricas\n",
        "print(df.dtypes)\n",
        "\n",
        "# Aplicamos one-hot encoding (get_dummies)\n",
        "df_encoded = pd.get_dummies(df, drop_first=True)  # drop_first evita colinealidad multivariada\n"
      ],
      "metadata": {
        "colab": {
          "base_uri": "https://localhost:8080/"
        },
        "id": "rPWYMThxQby_",
        "outputId": "6ebd4945-aa16-4986-b77a-67d93364ee2b"
      },
      "execution_count": 38,
      "outputs": [
        {
          "output_type": "stream",
          "name": "stdout",
          "text": [
            "Churn                         object\n",
            "customer_gender               object\n",
            "customer_SeniorCitizen         int64\n",
            "customer_Partner              object\n",
            "customer_Dependents           object\n",
            "customer_tenure                int64\n",
            "phone_PhoneService            object\n",
            "phone_MultipleLines           object\n",
            "internet_InternetService      object\n",
            "internet_OnlineSecurity       object\n",
            "internet_OnlineBackup         object\n",
            "internet_DeviceProtection     object\n",
            "internet_TechSupport          object\n",
            "internet_StreamingTV          object\n",
            "internet_StreamingMovies      object\n",
            "account_Contract              object\n",
            "account_PaperlessBilling      object\n",
            "account_PaymentMethod         object\n",
            "account_Charges_Monthly      float64\n",
            "account_Charges_Total        float64\n",
            "dtype: object\n"
          ]
        }
      ]
    },
    {
      "cell_type": "code",
      "source": [
        "# Contar cada clase en 'Churn' y mostrar proporción\n",
        "proporciones = df_encoded['Churn_Yes'].value_counts(normalize=True)\n",
        "\n",
        "print(proporciones)\n"
      ],
      "metadata": {
        "colab": {
          "base_uri": "https://localhost:8080/"
        },
        "collapsed": true,
        "id": "rhCAjFA1FDsL",
        "outputId": "ce2e8c2f-6e42-4080-ac5b-8f3d6e91b98d"
      },
      "execution_count": 39,
      "outputs": [
        {
          "output_type": "stream",
          "name": "stdout",
          "text": [
            "Churn_Yes\n",
            "False    0.74281\n",
            "True     0.25719\n",
            "Name: proportion, dtype: float64\n"
          ]
        }
      ]
    },
    {
      "cell_type": "code",
      "source": [
        "X = df_encoded.drop(columns=['Churn_No', 'Churn_Yes'])\n",
        "y = df_encoded['Churn_Yes'].astype(int)  # asegurar que es numérica\n"
      ],
      "metadata": {
        "id": "dcy-oPXNGPVa"
      },
      "execution_count": 40,
      "outputs": []
    },
    {
      "cell_type": "code",
      "source": [
        "df_encoded.head()"
      ],
      "metadata": {
        "colab": {
          "base_uri": "https://localhost:8080/",
          "height": 273
        },
        "collapsed": true,
        "id": "vfjPtJ-HQ7Kt",
        "outputId": "20a6686b-8e7c-4dff-c4fa-83baf627ab07"
      },
      "execution_count": 42,
      "outputs": [
        {
          "output_type": "execute_result",
          "data": {
            "text/plain": [
              "   customer_SeniorCitizen  customer_tenure  account_Charges_Monthly  \\\n",
              "0                       0                9                     65.6   \n",
              "1                       0                9                     59.9   \n",
              "2                       0                4                     73.9   \n",
              "3                       1               13                     98.0   \n",
              "4                       1                3                     83.9   \n",
              "\n",
              "   account_Charges_Total  Churn_No  Churn_Yes  customer_gender_Male  \\\n",
              "0                 593.30      True      False                 False   \n",
              "1                 542.40      True      False                  True   \n",
              "2                 280.85     False       True                  True   \n",
              "3                1237.85     False       True                  True   \n",
              "4                 267.40     False       True                 False   \n",
              "\n",
              "   customer_Partner_Yes  customer_Dependents_Yes  phone_PhoneService_Yes  ...  \\\n",
              "0                  True                     True                    True  ...   \n",
              "1                 False                    False                    True  ...   \n",
              "2                 False                    False                    True  ...   \n",
              "3                  True                    False                    True  ...   \n",
              "4                  True                    False                    True  ...   \n",
              "\n",
              "   internet_StreamingTV_No internet service  internet_StreamingTV_Yes  \\\n",
              "0                                     False                      True   \n",
              "1                                     False                     False   \n",
              "2                                     False                     False   \n",
              "3                                     False                      True   \n",
              "4                                     False                      True   \n",
              "\n",
              "   internet_StreamingMovies_No internet service  internet_StreamingMovies_Yes  \\\n",
              "0                                         False                         False   \n",
              "1                                         False                          True   \n",
              "2                                         False                         False   \n",
              "3                                         False                          True   \n",
              "4                                         False                         False   \n",
              "\n",
              "   account_Contract_One year  account_Contract_Two year  \\\n",
              "0                       True                      False   \n",
              "1                      False                      False   \n",
              "2                      False                      False   \n",
              "3                      False                      False   \n",
              "4                      False                      False   \n",
              "\n",
              "   account_PaperlessBilling_Yes  \\\n",
              "0                          True   \n",
              "1                         False   \n",
              "2                          True   \n",
              "3                          True   \n",
              "4                          True   \n",
              "\n",
              "   account_PaymentMethod_Credit card (automatic)  \\\n",
              "0                                          False   \n",
              "1                                          False   \n",
              "2                                          False   \n",
              "3                                          False   \n",
              "4                                          False   \n",
              "\n",
              "   account_PaymentMethod_Electronic check  account_PaymentMethod_Mailed check  \n",
              "0                                   False                                True  \n",
              "1                                   False                                True  \n",
              "2                                    True                               False  \n",
              "3                                    True                               False  \n",
              "4                                   False                                True  \n",
              "\n",
              "[5 rows x 32 columns]"
            ],
            "text/html": [
              "\n",
              "  <div id=\"df-4d10febf-83bd-4fd8-be16-d7e903aa0d4c\" class=\"colab-df-container\">\n",
              "    <div>\n",
              "<style scoped>\n",
              "    .dataframe tbody tr th:only-of-type {\n",
              "        vertical-align: middle;\n",
              "    }\n",
              "\n",
              "    .dataframe tbody tr th {\n",
              "        vertical-align: top;\n",
              "    }\n",
              "\n",
              "    .dataframe thead th {\n",
              "        text-align: right;\n",
              "    }\n",
              "</style>\n",
              "<table border=\"1\" class=\"dataframe\">\n",
              "  <thead>\n",
              "    <tr style=\"text-align: right;\">\n",
              "      <th></th>\n",
              "      <th>customer_SeniorCitizen</th>\n",
              "      <th>customer_tenure</th>\n",
              "      <th>account_Charges_Monthly</th>\n",
              "      <th>account_Charges_Total</th>\n",
              "      <th>Churn_No</th>\n",
              "      <th>Churn_Yes</th>\n",
              "      <th>customer_gender_Male</th>\n",
              "      <th>customer_Partner_Yes</th>\n",
              "      <th>customer_Dependents_Yes</th>\n",
              "      <th>phone_PhoneService_Yes</th>\n",
              "      <th>...</th>\n",
              "      <th>internet_StreamingTV_No internet service</th>\n",
              "      <th>internet_StreamingTV_Yes</th>\n",
              "      <th>internet_StreamingMovies_No internet service</th>\n",
              "      <th>internet_StreamingMovies_Yes</th>\n",
              "      <th>account_Contract_One year</th>\n",
              "      <th>account_Contract_Two year</th>\n",
              "      <th>account_PaperlessBilling_Yes</th>\n",
              "      <th>account_PaymentMethod_Credit card (automatic)</th>\n",
              "      <th>account_PaymentMethod_Electronic check</th>\n",
              "      <th>account_PaymentMethod_Mailed check</th>\n",
              "    </tr>\n",
              "  </thead>\n",
              "  <tbody>\n",
              "    <tr>\n",
              "      <th>0</th>\n",
              "      <td>0</td>\n",
              "      <td>9</td>\n",
              "      <td>65.6</td>\n",
              "      <td>593.30</td>\n",
              "      <td>True</td>\n",
              "      <td>False</td>\n",
              "      <td>False</td>\n",
              "      <td>True</td>\n",
              "      <td>True</td>\n",
              "      <td>True</td>\n",
              "      <td>...</td>\n",
              "      <td>False</td>\n",
              "      <td>True</td>\n",
              "      <td>False</td>\n",
              "      <td>False</td>\n",
              "      <td>True</td>\n",
              "      <td>False</td>\n",
              "      <td>True</td>\n",
              "      <td>False</td>\n",
              "      <td>False</td>\n",
              "      <td>True</td>\n",
              "    </tr>\n",
              "    <tr>\n",
              "      <th>1</th>\n",
              "      <td>0</td>\n",
              "      <td>9</td>\n",
              "      <td>59.9</td>\n",
              "      <td>542.40</td>\n",
              "      <td>True</td>\n",
              "      <td>False</td>\n",
              "      <td>True</td>\n",
              "      <td>False</td>\n",
              "      <td>False</td>\n",
              "      <td>True</td>\n",
              "      <td>...</td>\n",
              "      <td>False</td>\n",
              "      <td>False</td>\n",
              "      <td>False</td>\n",
              "      <td>True</td>\n",
              "      <td>False</td>\n",
              "      <td>False</td>\n",
              "      <td>False</td>\n",
              "      <td>False</td>\n",
              "      <td>False</td>\n",
              "      <td>True</td>\n",
              "    </tr>\n",
              "    <tr>\n",
              "      <th>2</th>\n",
              "      <td>0</td>\n",
              "      <td>4</td>\n",
              "      <td>73.9</td>\n",
              "      <td>280.85</td>\n",
              "      <td>False</td>\n",
              "      <td>True</td>\n",
              "      <td>True</td>\n",
              "      <td>False</td>\n",
              "      <td>False</td>\n",
              "      <td>True</td>\n",
              "      <td>...</td>\n",
              "      <td>False</td>\n",
              "      <td>False</td>\n",
              "      <td>False</td>\n",
              "      <td>False</td>\n",
              "      <td>False</td>\n",
              "      <td>False</td>\n",
              "      <td>True</td>\n",
              "      <td>False</td>\n",
              "      <td>True</td>\n",
              "      <td>False</td>\n",
              "    </tr>\n",
              "    <tr>\n",
              "      <th>3</th>\n",
              "      <td>1</td>\n",
              "      <td>13</td>\n",
              "      <td>98.0</td>\n",
              "      <td>1237.85</td>\n",
              "      <td>False</td>\n",
              "      <td>True</td>\n",
              "      <td>True</td>\n",
              "      <td>True</td>\n",
              "      <td>False</td>\n",
              "      <td>True</td>\n",
              "      <td>...</td>\n",
              "      <td>False</td>\n",
              "      <td>True</td>\n",
              "      <td>False</td>\n",
              "      <td>True</td>\n",
              "      <td>False</td>\n",
              "      <td>False</td>\n",
              "      <td>True</td>\n",
              "      <td>False</td>\n",
              "      <td>True</td>\n",
              "      <td>False</td>\n",
              "    </tr>\n",
              "    <tr>\n",
              "      <th>4</th>\n",
              "      <td>1</td>\n",
              "      <td>3</td>\n",
              "      <td>83.9</td>\n",
              "      <td>267.40</td>\n",
              "      <td>False</td>\n",
              "      <td>True</td>\n",
              "      <td>False</td>\n",
              "      <td>True</td>\n",
              "      <td>False</td>\n",
              "      <td>True</td>\n",
              "      <td>...</td>\n",
              "      <td>False</td>\n",
              "      <td>True</td>\n",
              "      <td>False</td>\n",
              "      <td>False</td>\n",
              "      <td>False</td>\n",
              "      <td>False</td>\n",
              "      <td>True</td>\n",
              "      <td>False</td>\n",
              "      <td>False</td>\n",
              "      <td>True</td>\n",
              "    </tr>\n",
              "  </tbody>\n",
              "</table>\n",
              "<p>5 rows × 32 columns</p>\n",
              "</div>\n",
              "    <div class=\"colab-df-buttons\">\n",
              "\n",
              "  <div class=\"colab-df-container\">\n",
              "    <button class=\"colab-df-convert\" onclick=\"convertToInteractive('df-4d10febf-83bd-4fd8-be16-d7e903aa0d4c')\"\n",
              "            title=\"Convert this dataframe to an interactive table.\"\n",
              "            style=\"display:none;\">\n",
              "\n",
              "  <svg xmlns=\"http://www.w3.org/2000/svg\" height=\"24px\" viewBox=\"0 -960 960 960\">\n",
              "    <path d=\"M120-120v-720h720v720H120Zm60-500h600v-160H180v160Zm220 220h160v-160H400v160Zm0 220h160v-160H400v160ZM180-400h160v-160H180v160Zm440 0h160v-160H620v160ZM180-180h160v-160H180v160Zm440 0h160v-160H620v160Z\"/>\n",
              "  </svg>\n",
              "    </button>\n",
              "\n",
              "  <style>\n",
              "    .colab-df-container {\n",
              "      display:flex;\n",
              "      gap: 12px;\n",
              "    }\n",
              "\n",
              "    .colab-df-convert {\n",
              "      background-color: #E8F0FE;\n",
              "      border: none;\n",
              "      border-radius: 50%;\n",
              "      cursor: pointer;\n",
              "      display: none;\n",
              "      fill: #1967D2;\n",
              "      height: 32px;\n",
              "      padding: 0 0 0 0;\n",
              "      width: 32px;\n",
              "    }\n",
              "\n",
              "    .colab-df-convert:hover {\n",
              "      background-color: #E2EBFA;\n",
              "      box-shadow: 0px 1px 2px rgba(60, 64, 67, 0.3), 0px 1px 3px 1px rgba(60, 64, 67, 0.15);\n",
              "      fill: #174EA6;\n",
              "    }\n",
              "\n",
              "    .colab-df-buttons div {\n",
              "      margin-bottom: 4px;\n",
              "    }\n",
              "\n",
              "    [theme=dark] .colab-df-convert {\n",
              "      background-color: #3B4455;\n",
              "      fill: #D2E3FC;\n",
              "    }\n",
              "\n",
              "    [theme=dark] .colab-df-convert:hover {\n",
              "      background-color: #434B5C;\n",
              "      box-shadow: 0px 1px 3px 1px rgba(0, 0, 0, 0.15);\n",
              "      filter: drop-shadow(0px 1px 2px rgba(0, 0, 0, 0.3));\n",
              "      fill: #FFFFFF;\n",
              "    }\n",
              "  </style>\n",
              "\n",
              "    <script>\n",
              "      const buttonEl =\n",
              "        document.querySelector('#df-4d10febf-83bd-4fd8-be16-d7e903aa0d4c button.colab-df-convert');\n",
              "      buttonEl.style.display =\n",
              "        google.colab.kernel.accessAllowed ? 'block' : 'none';\n",
              "\n",
              "      async function convertToInteractive(key) {\n",
              "        const element = document.querySelector('#df-4d10febf-83bd-4fd8-be16-d7e903aa0d4c');\n",
              "        const dataTable =\n",
              "          await google.colab.kernel.invokeFunction('convertToInteractive',\n",
              "                                                    [key], {});\n",
              "        if (!dataTable) return;\n",
              "\n",
              "        const docLinkHtml = 'Like what you see? Visit the ' +\n",
              "          '<a target=\"_blank\" href=https://colab.research.google.com/notebooks/data_table.ipynb>data table notebook</a>'\n",
              "          + ' to learn more about interactive tables.';\n",
              "        element.innerHTML = '';\n",
              "        dataTable['output_type'] = 'display_data';\n",
              "        await google.colab.output.renderOutput(dataTable, element);\n",
              "        const docLink = document.createElement('div');\n",
              "        docLink.innerHTML = docLinkHtml;\n",
              "        element.appendChild(docLink);\n",
              "      }\n",
              "    </script>\n",
              "  </div>\n",
              "\n",
              "\n",
              "    <div id=\"df-418063c7-5ea7-4ff6-a901-71b11f181d80\">\n",
              "      <button class=\"colab-df-quickchart\" onclick=\"quickchart('df-418063c7-5ea7-4ff6-a901-71b11f181d80')\"\n",
              "                title=\"Suggest charts\"\n",
              "                style=\"display:none;\">\n",
              "\n",
              "<svg xmlns=\"http://www.w3.org/2000/svg\" height=\"24px\"viewBox=\"0 0 24 24\"\n",
              "     width=\"24px\">\n",
              "    <g>\n",
              "        <path d=\"M19 3H5c-1.1 0-2 .9-2 2v14c0 1.1.9 2 2 2h14c1.1 0 2-.9 2-2V5c0-1.1-.9-2-2-2zM9 17H7v-7h2v7zm4 0h-2V7h2v10zm4 0h-2v-4h2v4z\"/>\n",
              "    </g>\n",
              "</svg>\n",
              "      </button>\n",
              "\n",
              "<style>\n",
              "  .colab-df-quickchart {\n",
              "      --bg-color: #E8F0FE;\n",
              "      --fill-color: #1967D2;\n",
              "      --hover-bg-color: #E2EBFA;\n",
              "      --hover-fill-color: #174EA6;\n",
              "      --disabled-fill-color: #AAA;\n",
              "      --disabled-bg-color: #DDD;\n",
              "  }\n",
              "\n",
              "  [theme=dark] .colab-df-quickchart {\n",
              "      --bg-color: #3B4455;\n",
              "      --fill-color: #D2E3FC;\n",
              "      --hover-bg-color: #434B5C;\n",
              "      --hover-fill-color: #FFFFFF;\n",
              "      --disabled-bg-color: #3B4455;\n",
              "      --disabled-fill-color: #666;\n",
              "  }\n",
              "\n",
              "  .colab-df-quickchart {\n",
              "    background-color: var(--bg-color);\n",
              "    border: none;\n",
              "    border-radius: 50%;\n",
              "    cursor: pointer;\n",
              "    display: none;\n",
              "    fill: var(--fill-color);\n",
              "    height: 32px;\n",
              "    padding: 0;\n",
              "    width: 32px;\n",
              "  }\n",
              "\n",
              "  .colab-df-quickchart:hover {\n",
              "    background-color: var(--hover-bg-color);\n",
              "    box-shadow: 0 1px 2px rgba(60, 64, 67, 0.3), 0 1px 3px 1px rgba(60, 64, 67, 0.15);\n",
              "    fill: var(--button-hover-fill-color);\n",
              "  }\n",
              "\n",
              "  .colab-df-quickchart-complete:disabled,\n",
              "  .colab-df-quickchart-complete:disabled:hover {\n",
              "    background-color: var(--disabled-bg-color);\n",
              "    fill: var(--disabled-fill-color);\n",
              "    box-shadow: none;\n",
              "  }\n",
              "\n",
              "  .colab-df-spinner {\n",
              "    border: 2px solid var(--fill-color);\n",
              "    border-color: transparent;\n",
              "    border-bottom-color: var(--fill-color);\n",
              "    animation:\n",
              "      spin 1s steps(1) infinite;\n",
              "  }\n",
              "\n",
              "  @keyframes spin {\n",
              "    0% {\n",
              "      border-color: transparent;\n",
              "      border-bottom-color: var(--fill-color);\n",
              "      border-left-color: var(--fill-color);\n",
              "    }\n",
              "    20% {\n",
              "      border-color: transparent;\n",
              "      border-left-color: var(--fill-color);\n",
              "      border-top-color: var(--fill-color);\n",
              "    }\n",
              "    30% {\n",
              "      border-color: transparent;\n",
              "      border-left-color: var(--fill-color);\n",
              "      border-top-color: var(--fill-color);\n",
              "      border-right-color: var(--fill-color);\n",
              "    }\n",
              "    40% {\n",
              "      border-color: transparent;\n",
              "      border-right-color: var(--fill-color);\n",
              "      border-top-color: var(--fill-color);\n",
              "    }\n",
              "    60% {\n",
              "      border-color: transparent;\n",
              "      border-right-color: var(--fill-color);\n",
              "    }\n",
              "    80% {\n",
              "      border-color: transparent;\n",
              "      border-right-color: var(--fill-color);\n",
              "      border-bottom-color: var(--fill-color);\n",
              "    }\n",
              "    90% {\n",
              "      border-color: transparent;\n",
              "      border-bottom-color: var(--fill-color);\n",
              "    }\n",
              "  }\n",
              "</style>\n",
              "\n",
              "      <script>\n",
              "        async function quickchart(key) {\n",
              "          const quickchartButtonEl =\n",
              "            document.querySelector('#' + key + ' button');\n",
              "          quickchartButtonEl.disabled = true;  // To prevent multiple clicks.\n",
              "          quickchartButtonEl.classList.add('colab-df-spinner');\n",
              "          try {\n",
              "            const charts = await google.colab.kernel.invokeFunction(\n",
              "                'suggestCharts', [key], {});\n",
              "          } catch (error) {\n",
              "            console.error('Error during call to suggestCharts:', error);\n",
              "          }\n",
              "          quickchartButtonEl.classList.remove('colab-df-spinner');\n",
              "          quickchartButtonEl.classList.add('colab-df-quickchart-complete');\n",
              "        }\n",
              "        (() => {\n",
              "          let quickchartButtonEl =\n",
              "            document.querySelector('#df-418063c7-5ea7-4ff6-a901-71b11f181d80 button');\n",
              "          quickchartButtonEl.style.display =\n",
              "            google.colab.kernel.accessAllowed ? 'block' : 'none';\n",
              "        })();\n",
              "      </script>\n",
              "    </div>\n",
              "\n",
              "    </div>\n",
              "  </div>\n"
            ],
            "application/vnd.google.colaboratory.intrinsic+json": {
              "type": "dataframe",
              "variable_name": "df_encoded"
            }
          },
          "metadata": {},
          "execution_count": 42
        }
      ]
    },
    {
      "cell_type": "code",
      "source": [
        "y = df_encoded['Churn_Yes'].astype(int)\n"
      ],
      "metadata": {
        "id": "DQFuNnkOaVS_"
      },
      "execution_count": 44,
      "outputs": []
    },
    {
      "cell_type": "code",
      "source": [
        "X = df_encoded.drop(columns=['Churn_Yes', 'Churn_No'])\n"
      ],
      "metadata": {
        "id": "42f0DAYraa04"
      },
      "execution_count": 45,
      "outputs": []
    },
    {
      "cell_type": "code",
      "source": [
        "X.isna().sum().sort_values(ascending=False).head(10)\n"
      ],
      "metadata": {
        "colab": {
          "base_uri": "https://localhost:8080/",
          "height": 397
        },
        "id": "Xmp1kfSxa8sd",
        "outputId": "b41702c4-6832-49ad-fc27-25d127f99d89"
      },
      "execution_count": 47,
      "outputs": [
        {
          "output_type": "execute_result",
          "data": {
            "text/plain": [
              "account_Charges_Total                   11\n",
              "customer_SeniorCitizen                   0\n",
              "customer_tenure                          0\n",
              "account_Charges_Monthly                  0\n",
              "customer_gender_Male                     0\n",
              "customer_Partner_Yes                     0\n",
              "customer_Dependents_Yes                  0\n",
              "phone_PhoneService_Yes                   0\n",
              "phone_MultipleLines_No phone service     0\n",
              "phone_MultipleLines_Yes                  0\n",
              "dtype: int64"
            ],
            "text/html": [
              "<div>\n",
              "<style scoped>\n",
              "    .dataframe tbody tr th:only-of-type {\n",
              "        vertical-align: middle;\n",
              "    }\n",
              "\n",
              "    .dataframe tbody tr th {\n",
              "        vertical-align: top;\n",
              "    }\n",
              "\n",
              "    .dataframe thead th {\n",
              "        text-align: right;\n",
              "    }\n",
              "</style>\n",
              "<table border=\"1\" class=\"dataframe\">\n",
              "  <thead>\n",
              "    <tr style=\"text-align: right;\">\n",
              "      <th></th>\n",
              "      <th>0</th>\n",
              "    </tr>\n",
              "  </thead>\n",
              "  <tbody>\n",
              "    <tr>\n",
              "      <th>account_Charges_Total</th>\n",
              "      <td>11</td>\n",
              "    </tr>\n",
              "    <tr>\n",
              "      <th>customer_SeniorCitizen</th>\n",
              "      <td>0</td>\n",
              "    </tr>\n",
              "    <tr>\n",
              "      <th>customer_tenure</th>\n",
              "      <td>0</td>\n",
              "    </tr>\n",
              "    <tr>\n",
              "      <th>account_Charges_Monthly</th>\n",
              "      <td>0</td>\n",
              "    </tr>\n",
              "    <tr>\n",
              "      <th>customer_gender_Male</th>\n",
              "      <td>0</td>\n",
              "    </tr>\n",
              "    <tr>\n",
              "      <th>customer_Partner_Yes</th>\n",
              "      <td>0</td>\n",
              "    </tr>\n",
              "    <tr>\n",
              "      <th>customer_Dependents_Yes</th>\n",
              "      <td>0</td>\n",
              "    </tr>\n",
              "    <tr>\n",
              "      <th>phone_PhoneService_Yes</th>\n",
              "      <td>0</td>\n",
              "    </tr>\n",
              "    <tr>\n",
              "      <th>phone_MultipleLines_No phone service</th>\n",
              "      <td>0</td>\n",
              "    </tr>\n",
              "    <tr>\n",
              "      <th>phone_MultipleLines_Yes</th>\n",
              "      <td>0</td>\n",
              "    </tr>\n",
              "  </tbody>\n",
              "</table>\n",
              "</div><br><label><b>dtype:</b> int64</label>"
            ]
          },
          "metadata": {},
          "execution_count": 47
        }
      ]
    },
    {
      "cell_type": "code",
      "source": [
        "X['account_Charges_Total'].fillna(X['account_Charges_Total'].median(), inplace=True)\n"
      ],
      "metadata": {
        "colab": {
          "base_uri": "https://localhost:8080/"
        },
        "id": "Xp4IKBK0bNpu",
        "outputId": "a2602c36-0850-4633-ab2a-3eda36134541"
      },
      "execution_count": 48,
      "outputs": [
        {
          "output_type": "stream",
          "name": "stderr",
          "text": [
            "/tmp/ipython-input-48-1875889471.py:1: FutureWarning: A value is trying to be set on a copy of a DataFrame or Series through chained assignment using an inplace method.\n",
            "The behavior will change in pandas 3.0. This inplace method will never work because the intermediate object on which we are setting values always behaves as a copy.\n",
            "\n",
            "For example, when doing 'df[col].method(value, inplace=True)', try using 'df.method({col: value}, inplace=True)' or df[col] = df[col].method(value) instead, to perform the operation inplace on the original object.\n",
            "\n",
            "\n",
            "  X['account_Charges_Total'].fillna(X['account_Charges_Total'].median(), inplace=True)\n"
          ]
        }
      ]
    },
    {
      "cell_type": "code",
      "source": [
        "from sklearn.model_selection import train_test_split\n",
        "from sklearn.linear_model import LogisticRegression\n",
        "from sklearn.metrics import classification_report, confusion_matrix\n",
        "\n",
        "# Dividir en entrenamiento y prueba\n",
        "X_train, X_test, y_train, y_test = train_test_split(X, y, test_size=0.2, random_state=42)\n",
        "\n",
        "# Entrenar modelo base\n",
        "model = LogisticRegression(max_iter=1000)\n",
        "model.fit(X_train, y_train)\n",
        "\n",
        "# Evaluar\n",
        "y_pred = model.predict(X_test)\n",
        "print(confusion_matrix(y_test, y_pred))\n",
        "print(classification_report(y_test, y_pred))\n"
      ],
      "metadata": {
        "colab": {
          "base_uri": "https://localhost:8080/"
        },
        "id": "Ldj52Ri7akyN",
        "outputId": "75c5d329-8699-4ed4-c807-3987e86bceac"
      },
      "execution_count": 49,
      "outputs": [
        {
          "output_type": "stream",
          "name": "stdout",
          "text": [
            "[[984  98]\n",
            " [170 202]]\n",
            "              precision    recall  f1-score   support\n",
            "\n",
            "           0       0.85      0.91      0.88      1082\n",
            "           1       0.67      0.54      0.60       372\n",
            "\n",
            "    accuracy                           0.82      1454\n",
            "   macro avg       0.76      0.73      0.74      1454\n",
            "weighted avg       0.81      0.82      0.81      1454\n",
            "\n"
          ]
        },
        {
          "output_type": "stream",
          "name": "stderr",
          "text": [
            "/usr/local/lib/python3.11/dist-packages/sklearn/linear_model/_logistic.py:465: ConvergenceWarning: lbfgs failed to converge (status=1):\n",
            "STOP: TOTAL NO. OF ITERATIONS REACHED LIMIT.\n",
            "\n",
            "Increase the number of iterations (max_iter) or scale the data as shown in:\n",
            "    https://scikit-learn.org/stable/modules/preprocessing.html\n",
            "Please also refer to the documentation for alternative solver options:\n",
            "    https://scikit-learn.org/stable/modules/linear_model.html#logistic-regression\n",
            "  n_iter_i = _check_optimize_result(\n"
          ]
        }
      ]
    },
    {
      "cell_type": "code",
      "source": [
        "!pip install imbalanced-learn\n"
      ],
      "metadata": {
        "colab": {
          "base_uri": "https://localhost:8080/"
        },
        "collapsed": true,
        "id": "Zj-4pgPyGMbt",
        "outputId": "1ef14655-03f3-40c4-ba49-ee78050729e2"
      },
      "execution_count": 43,
      "outputs": [
        {
          "output_type": "stream",
          "name": "stdout",
          "text": [
            "Requirement already satisfied: imbalanced-learn in /usr/local/lib/python3.11/dist-packages (0.13.0)\n",
            "Requirement already satisfied: numpy<3,>=1.24.3 in /usr/local/lib/python3.11/dist-packages (from imbalanced-learn) (2.0.2)\n",
            "Requirement already satisfied: scipy<2,>=1.10.1 in /usr/local/lib/python3.11/dist-packages (from imbalanced-learn) (1.15.3)\n",
            "Requirement already satisfied: scikit-learn<2,>=1.3.2 in /usr/local/lib/python3.11/dist-packages (from imbalanced-learn) (1.6.1)\n",
            "Requirement already satisfied: sklearn-compat<1,>=0.1 in /usr/local/lib/python3.11/dist-packages (from imbalanced-learn) (0.1.3)\n",
            "Requirement already satisfied: joblib<2,>=1.1.1 in /usr/local/lib/python3.11/dist-packages (from imbalanced-learn) (1.5.1)\n",
            "Requirement already satisfied: threadpoolctl<4,>=2.0.0 in /usr/local/lib/python3.11/dist-packages (from imbalanced-learn) (3.6.0)\n"
          ]
        }
      ]
    },
    {
      "cell_type": "code",
      "source": [
        "from imblearn.over_sampling import SMOTE\n",
        "from sklearn.model_selection import train_test_split\n",
        "from sklearn.linear_model import LogisticRegression\n",
        "from sklearn.metrics import classification_report, confusion_matrix\n",
        "\n"
      ],
      "metadata": {
        "id": "kD1qxwvyGi6S"
      },
      "execution_count": 57,
      "outputs": []
    },
    {
      "cell_type": "code",
      "source": [
        "# Dividir en train y test (antes de SMOTE)\n",
        "X_train, X_test, y_train, y_test = train_test_split(X, y, test_size=0.2, random_state=42)\n",
        "\n",
        "# Aplicar SMOTE solo al conjunto de entrenamiento\n",
        "smote = SMOTE(random_state=42)\n",
        "X_train_smote, y_train_smote = smote.fit_resample(X_train, y_train)\n",
        "\n",
        "print(\"Antes de SMOTE:\", y_train.value_counts())\n",
        "print(\"Después de SMOTE:\", y_train_smote.value_counts())\n",
        "\n",
        "# Entrenar modelo\n",
        "model = LogisticRegression(max_iter=4000)\n",
        "model.fit(X_train_smote, y_train_smote)\n",
        "\n",
        "# Predecir y evaluar en test (sin SMOTE)\n",
        "y_pred = model.predict(X_test)\n",
        "\n",
        "print(confusion_matrix(y_test, y_pred))\n",
        "print(classification_report(y_test, y_pred))\n",
        "\n"
      ],
      "metadata": {
        "colab": {
          "base_uri": "https://localhost:8080/"
        },
        "id": "aIpdwQxqGtop",
        "outputId": "34891e26-3a69-42b6-ba0d-e2741b1bc950"
      },
      "execution_count": 59,
      "outputs": [
        {
          "output_type": "stream",
          "name": "stdout",
          "text": [
            "Antes de SMOTE: Churn_Yes\n",
            "0    4316\n",
            "1    1497\n",
            "Name: count, dtype: int64\n",
            "Después de SMOTE: Churn_Yes\n",
            "0    4316\n",
            "1    4316\n",
            "Name: count, dtype: int64\n",
            "[[896 186]\n",
            " [124 248]]\n",
            "              precision    recall  f1-score   support\n",
            "\n",
            "           0       0.88      0.83      0.85      1082\n",
            "           1       0.57      0.67      0.62       372\n",
            "\n",
            "    accuracy                           0.79      1454\n",
            "   macro avg       0.72      0.75      0.73      1454\n",
            "weighted avg       0.80      0.79      0.79      1454\n",
            "\n"
          ]
        },
        {
          "output_type": "stream",
          "name": "stderr",
          "text": [
            "/usr/local/lib/python3.11/dist-packages/sklearn/linear_model/_logistic.py:465: ConvergenceWarning: lbfgs failed to converge (status=1):\n",
            "STOP: TOTAL NO. OF ITERATIONS REACHED LIMIT.\n",
            "\n",
            "Increase the number of iterations (max_iter) or scale the data as shown in:\n",
            "    https://scikit-learn.org/stable/modules/preprocessing.html\n",
            "Please also refer to the documentation for alternative solver options:\n",
            "    https://scikit-learn.org/stable/modules/linear_model.html#logistic-regression\n",
            "  n_iter_i = _check_optimize_result(\n"
          ]
        }
      ]
    },
    {
      "cell_type": "code",
      "source": [
        "from sklearn.ensemble import RandomForestClassifier\n",
        "from sklearn.metrics import classification_report, confusion_matrix\n",
        "\n",
        "# Entrenamos con los datos balanceados por SMOTE (usar X_train_smote, y_train_smote)\n",
        "rf = RandomForestClassifier(random_state=42)\n",
        "rf.fit(X_train_smote, y_train_smote)\n",
        "\n",
        "# Predecimos en el test set (sin SMOTE)\n",
        "y_pred_rf = rf.predict(X_test)\n",
        "\n",
        "# Evaluamos\n",
        "print(confusion_matrix(y_test, y_pred_rf))\n",
        "print(classification_report(y_test, y_pred_rf))\n"
      ],
      "metadata": {
        "colab": {
          "base_uri": "https://localhost:8080/"
        },
        "id": "1ycujoLDcdmy",
        "outputId": "1388a34e-eb1c-4cbd-f186-cb5b6174f02a"
      },
      "execution_count": 60,
      "outputs": [
        {
          "output_type": "stream",
          "name": "stdout",
          "text": [
            "[[916 166]\n",
            " [145 227]]\n",
            "              precision    recall  f1-score   support\n",
            "\n",
            "           0       0.86      0.85      0.85      1082\n",
            "           1       0.58      0.61      0.59       372\n",
            "\n",
            "    accuracy                           0.79      1454\n",
            "   macro avg       0.72      0.73      0.72      1454\n",
            "weighted avg       0.79      0.79      0.79      1454\n",
            "\n"
          ]
        }
      ]
    },
    {
      "cell_type": "code",
      "source": [
        "import seaborn as sns\n",
        "import matplotlib.pyplot as plt\n"
      ],
      "metadata": {
        "id": "T1UA1FrIgErQ"
      },
      "execution_count": 62,
      "outputs": []
    },
    {
      "cell_type": "code",
      "source": [
        "plt.figure(figsize=(8,5))\n",
        "sns.boxplot(x='Churn_Yes', y='customer_tenure', data=df_encoded)\n",
        "plt.title('Tiempo en la Compañía vs Cancelación')\n",
        "plt.xlabel('Cancelación (1 = sí)')\n",
        "plt.ylabel('Meses como cliente')\n",
        "plt.show()\n"
      ],
      "metadata": {
        "colab": {
          "base_uri": "https://localhost:8080/",
          "height": 488
        },
        "id": "MEFZ7CHlHpBF",
        "outputId": "b2c65a0a-4183-41ad-e83c-873c86727a37"
      },
      "execution_count": 63,
      "outputs": [
        {
          "output_type": "display_data",
          "data": {
            "text/plain": [
              "<Figure size 800x500 with 1 Axes>"
            ],
            "image/png": "[encoded data removed]"
          },
          "metadata": {}
        }
      ]
    },
    {
      "cell_type": "code",
      "source": [
        "plt.figure(figsize=(8,5))\n",
        "sns.boxplot(x='Churn_Yes', y='account_Charges_Total', data=df_encoded)\n",
        "plt.title('Gasto Total vs Cancelación')\n",
        "plt.xlabel('Cancelación (1 = sí)')\n",
        "plt.ylabel('Total gastado ($)')\n",
        "plt.show()\n"
      ],
      "metadata": {
        "colab": {
          "base_uri": "https://localhost:8080/",
          "height": 487
        },
        "id": "Ld3qHVjcPX5L",
        "outputId": "48d72bbf-5414-403e-d465-f80530c82a9d"
      },
      "execution_count": 65,
      "outputs": [
        {
          "output_type": "display_data",
          "data": {
            "text/plain": [
              "<Figure size 800x500 with 1 Axes>"
            ],
            "image/png": "[encoded data removed]"
          },
          "metadata": {}
        }
      ]
    },
    {
      "cell_type": "code",
      "source": [
        "# Obtener importancias\n",
        "importances = rf.feature_importances_\n",
        "features = pd.Series(importances, index=X.columns)\n",
        "\n",
        "# Ordenar y mostrar las más importantes\n",
        "top_features = features.sort_values(ascending=False).head(15)\n",
        "\n",
        "# Visualizar\n",
        "plt.figure(figsize=(10,6))\n",
        "sns.barplot(x=top_features.values, y=top_features.index)\n",
        "plt.title(\"Principales variables que influyen en la cancelación\")\n",
        "plt.xlabel(\"Importancia\")\n",
        "plt.ylabel(\"Variable\")\n",
        "plt.tight_layout()\n",
        "plt.show()"
      ],
      "metadata": {
        "colab": {
          "base_uri": "https://localhost:8080/",
          "height": 607
        },
        "id": "yLBibrMfg_dd",
        "outputId": "e2dda09e-2cb2-4aed-c01d-49c60f9a3dff"
      },
      "execution_count": 66,
      "outputs": [
        {
          "output_type": "display_data",
          "data": {
            "text/plain": [
              "<Figure size 1000x600 with 1 Axes>"
            ],
            "image/png": "[encoded data removed]"
          },
          "metadata": {}
        }
      ]
    },
    {
      "cell_type": "code",
      "source": [
        "from sklearn.preprocessing import StandardScaler\n",
        "\n",
        "# Escalamos solo los datos de entrenamiento y prueba (sin SMOTE)\n",
        "scaler = StandardScaler()\n",
        "X_train_scaled = scaler.fit_transform(X_train)\n",
        "X_test_scaled = scaler.transform(X_test)\n"
      ],
      "metadata": {
        "id": "YRQT10OTi_PB"
      },
      "execution_count": 67,
      "outputs": []
    },
    {
      "cell_type": "code",
      "source": [
        "from sklearn.linear_model import LogisticRegression\n",
        "from sklearn.metrics import classification_report, confusion_matrix\n",
        "\n",
        "logreg = LogisticRegression(max_iter=2000)\n",
        "logreg.fit(X_train_scaled, y_train)\n",
        "\n",
        "y_pred_logreg = logreg.predict(X_test_scaled)\n",
        "\n",
        "print(confusion_matrix(y_test, y_pred_logreg))\n",
        "print(classification_report(y_test, y_pred_logreg))\n"
      ],
      "metadata": {
        "colab": {
          "base_uri": "https://localhost:8080/"
        },
        "id": "BScJCBL7jG-j",
        "outputId": "d364b3ea-de12-445f-97f6-2f20737c741c"
      },
      "execution_count": 68,
      "outputs": [
        {
          "output_type": "stream",
          "name": "stdout",
          "text": [
            "[[984  98]\n",
            " [170 202]]\n",
            "              precision    recall  f1-score   support\n",
            "\n",
            "           0       0.85      0.91      0.88      1082\n",
            "           1       0.67      0.54      0.60       372\n",
            "\n",
            "    accuracy                           0.82      1454\n",
            "   macro avg       0.76      0.73      0.74      1454\n",
            "weighted avg       0.81      0.82      0.81      1454\n",
            "\n"
          ]
        }
      ]
    },
    {
      "cell_type": "code",
      "source": [
        "from sklearn.metrics import accuracy_score, precision_score, recall_score, f1_score, confusion_matrix, classification_report\n",
        "\n",
        "# Predicciones ya hechas:\n",
        "# y_pred_logreg = logreg.predict(X_test_scaled)\n",
        "\n",
        "print(\"Regresión Logística\")\n",
        "print(confusion_matrix(y_test, y_pred_logreg))\n",
        "print(classification_report(y_test, y_pred_logreg))\n",
        "\n",
        "print(\"Accuracy:\", accuracy_score(y_test, y_pred_logreg))\n",
        "print(\"Precision:\", precision_score(y_test, y_pred_logreg))\n",
        "print(\"Recall:\", recall_score(y_test, y_pred_logreg))\n",
        "print(\"F1 Score:\", f1_score(y_test, y_pred_logreg))\n"
      ],
      "metadata": {
        "colab": {
          "base_uri": "https://localhost:8080/"
        },
        "id": "wdP_YY4sjvID",
        "outputId": "638fcff0-ea53-4924-b200-6c5a2695c886"
      },
      "execution_count": 69,
      "outputs": [
        {
          "output_type": "stream",
          "name": "stdout",
          "text": [
            "Regresión Logística\n",
            "[[984  98]\n",
            " [170 202]]\n",
            "              precision    recall  f1-score   support\n",
            "\n",
            "           0       0.85      0.91      0.88      1082\n",
            "           1       0.67      0.54      0.60       372\n",
            "\n",
            "    accuracy                           0.82      1454\n",
            "   macro avg       0.76      0.73      0.74      1454\n",
            "weighted avg       0.81      0.82      0.81      1454\n",
            "\n",
            "Accuracy: 0.8156808803301238\n",
            "Precision: 0.6733333333333333\n",
            "Recall: 0.543010752688172\n",
            "F1 Score: 0.6011904761904762\n"
          ]
        }
      ]
    },
    {
      "cell_type": "code",
      "source": [
        "# y_pred_rf = rf.predict(X_test)\n",
        "\n",
        "print(\"Random Forest\")\n",
        "print(confusion_matrix(y_test, y_pred_rf))\n",
        "print(classification_report(y_test, y_pred_rf))\n",
        "\n",
        "print(\"Accuracy:\", accuracy_score(y_test, y_pred_rf))\n",
        "print(\"Precision:\", precision_score(y_test, y_pred_rf))\n",
        "print(\"Recall:\", recall_score(y_test, y_pred_rf))\n",
        "print(\"F1 Score:\", f1_score(y_test, y_pred_rf))\n"
      ],
      "metadata": {
        "colab": {
          "base_uri": "https://localhost:8080/"
        },
        "id": "N1YZSg_ljxXX",
        "outputId": "d5e6019c-3671-46e2-9116-4ccb4aa2e9f2"
      },
      "execution_count": 70,
      "outputs": [
        {
          "output_type": "stream",
          "name": "stdout",
          "text": [
            "Random Forest\n",
            "[[916 166]\n",
            " [145 227]]\n",
            "              precision    recall  f1-score   support\n",
            "\n",
            "           0       0.86      0.85      0.85      1082\n",
            "           1       0.58      0.61      0.59       372\n",
            "\n",
            "    accuracy                           0.79      1454\n",
            "   macro avg       0.72      0.73      0.72      1454\n",
            "weighted avg       0.79      0.79      0.79      1454\n",
            "\n",
            "Accuracy: 0.7861072902338377\n",
            "Precision: 0.5776081424936387\n",
            "Recall: 0.6102150537634409\n",
            "F1 Score: 0.5934640522875817\n"
          ]
        }
      ]
    },
    {
      "cell_type": "code",
      "source": [
        "import pandas as pd\n",
        "import numpy as np\n",
        "\n",
        "# Obtenemos los coeficientes y los nombres de las variables\n",
        "coef = logreg.coef_[0]\n",
        "features = X.columns\n",
        "\n",
        "# Armamos un DataFrame para visualizar\n",
        "coef_df = pd.DataFrame({\n",
        "    'Variable': features,\n",
        "    'Coeficiente': coef\n",
        "}).sort_values(by='Coeficiente', ascending=False)\n",
        "\n",
        "# Mostramos los más positivos (aumentan el churn) y los más negativos (lo disminuyen)\n",
        "top_positive = coef_df.head(10)\n",
        "top_negative = coef_df.tail(10)\n",
        "\n",
        "print(\"🔺 Variables que más aumentan la probabilidad de cancelación:\")\n",
        "print(top_positive)\n",
        "\n",
        "print(\"\\n🔻 Variables que más reducen la probabilidad de cancelación:\")\n",
        "print(top_negative)\n"
      ],
      "metadata": {
        "colab": {
          "base_uri": "https://localhost:8080/"
        },
        "id": "Vx2aULHvlD8H",
        "outputId": "aed56a90-e510-4330-d2bc-47fe0935083f"
      },
      "execution_count": 71,
      "outputs": [
        {
          "output_type": "stream",
          "name": "stdout",
          "text": [
            "🔺 Variables que más aumentan la probabilidad de cancelación:\n",
            "                                  Variable  Coeficiente\n",
            "3                    account_Charges_Total     0.834360\n",
            "10    internet_InternetService_Fiber optic     0.285144\n",
            "26            account_PaperlessBilling_Yes     0.159579\n",
            "28  account_PaymentMethod_Electronic check     0.148357\n",
            "23            internet_StreamingMovies_Yes     0.102240\n",
            "9                  phone_MultipleLines_Yes     0.093247\n",
            "8     phone_MultipleLines_No phone service     0.080876\n",
            "0                   customer_SeniorCitizen     0.077626\n",
            "21                internet_StreamingTV_Yes     0.060664\n",
            "2                  account_Charges_Monthly     0.054748\n",
            "\n",
            "🔻 Variables que más reducen la probabilidad de cancelación:\n",
            "                                         Variable  Coeficiente\n",
            "18       internet_TechSupport_No internet service    -0.046027\n",
            "16  internet_DeviceProtection_No internet service    -0.046027\n",
            "6                         customer_Dependents_Yes    -0.064626\n",
            "7                          phone_PhoneService_Yes    -0.080876\n",
            "15                      internet_OnlineBackup_Yes    -0.109325\n",
            "13                    internet_OnlineSecurity_Yes    -0.178000\n",
            "19                       internet_TechSupport_Yes    -0.207111\n",
            "24                      account_Contract_One year    -0.271953\n",
            "25                      account_Contract_Two year    -0.586564\n",
            "1                                 customer_tenure    -1.492667\n"
          ]
        }
      ]
    },
    {
      "cell_type": "code",
      "source": [
        "import matplotlib.pyplot as plt\n",
        "import seaborn as sns\n",
        "\n",
        "importances = rf.feature_importances_\n",
        "features = pd.Series(importances, index=X.columns)\n",
        "\n",
        "# Mostrar las más importantes\n",
        "top_features = features.sort_values(ascending=False).head(15)\n",
        "\n",
        "plt.figure(figsize=(10,6))\n",
        "sns.barplot(x=top_features.values, y=top_features.index)\n",
        "plt.title(\"Variables más importantes según Random Forest\")\n",
        "plt.xlabel(\"Importancia\")\n",
        "plt.tight_layout()\n",
        "plt.show()\n"
      ],
      "metadata": {
        "colab": {
          "base_uri": "https://localhost:8080/",
          "height": 607
        },
        "id": "zca4KZFglSWV",
        "outputId": "1481fbb3-ab75-4bb9-922f-2fd796beced8"
      },
      "execution_count": 72,
      "outputs": [
        {
          "output_type": "display_data",
          "data": {
            "text/plain": [
              "<Figure size 1000x600 with 1 Axes>"
            ],
            "image/png": "[encoded data removed]"
          },
          "metadata": {}
        }
      ]
    },
    {
      "cell_type": "code",
      "source": [
        "# Suponiendo que tu modelo es 'rf' y tus features están en 'X' (DataFrame)\n",
        "\n",
        "import pandas as pd\n",
        "\n",
        "importances = rf.feature_importances_\n",
        "features = X.columns\n",
        "\n",
        "# Crear DataFrame con importancia y nombres\n",
        "feat_importances = pd.DataFrame({\n",
        "    'Variable': features,\n",
        "    'Importancia': importances\n",
        "})\n",
        "\n",
        "# Ordenar de mayor a menor importancia\n",
        "feat_importances = feat_importances.sort_values(by='Importancia', ascending=False)\n",
        "\n",
        "# Mostrar las top 10 variables más importantes\n",
        "print(feat_importances.head(10).to_string(index=False))\n"
      ],
      "metadata": {
        "colab": {
          "base_uri": "https://localhost:8080/"
        },
        "id": "C0g26psBm3Uu",
        "outputId": "3f7a0fdb-9495-43dc-ac51-8ebf145a58d4"
      },
      "execution_count": 73,
      "outputs": [
        {
          "output_type": "stream",
          "name": "stdout",
          "text": [
            "                              Variable  Importancia\n",
            "                 account_Charges_Total     0.177661\n",
            "                       customer_tenure     0.158867\n",
            "               account_Charges_Monthly     0.136057\n",
            "account_PaymentMethod_Electronic check     0.098329\n",
            "  internet_InternetService_Fiber optic     0.049248\n",
            "          account_PaperlessBilling_Yes     0.040009\n",
            "             account_Contract_Two year     0.039021\n",
            "                  customer_gender_Male     0.022956\n",
            "               phone_MultipleLines_Yes     0.020604\n",
            "             account_Contract_One year     0.020253\n"
          ]
        }
      ]
    },
    {
      "cell_type": "code",
      "source": [
        "Conclusión\n",
        "En este estudio se analizaron y modelaron los factores que influyen en la cancelación de clientes (churn) utilizando dos enfoques de machine learning: Regresión Logística y Random Forest.\n",
        "\n",
        "Factores Clave que Afectan la Cancelación\n",
        "Ambos modelos coinciden en que las variables más relevantes para predecir la cancelación son:\n",
        "\n",
        "Gasto total acumulado (account_Charges_Total): Los clientes con mayor gasto total tienen una probabilidad más alta de cancelar, lo que puede indicar insatisfacción con el valor percibido o acumulación de motivos para dejar el servicio.\n",
        "\n",
        "Antigüedad del cliente (customer_tenure): A mayor tiempo como cliente, menor es la probabilidad de cancelar. La fidelidad y el compromiso aumentan con el tiempo, y este factor es el más influyente en la regresión logística con un coeficiente negativo fuerte.\n",
        "\n",
        "Gasto mensual promedio (account_Charges_Monthly): También es una variable relevante que contribuye a la predicción.\n",
        "\n",
        "Método de pago (especialmente Electronic Check): Asociado con mayor riesgo de cancelación, posiblemente porque refleja clientes con menor compromiso o mayor propensión a la deserción.\n",
        "\n",
        "Tipo de contrato y facturación (contratos de largo plazo y facturación sin papel): Contratos más largos y facturación tradicional se relacionan con menor churn.\n",
        "\n",
        "Características del servicio de internet (Fibra óptica) y servicios adicionales (streaming, soporte técnico): También afectan la cancelación, quizás reflejando expectativas o experiencia del usuario.\n",
        "\n",
        "Rendimiento de los Modelos\n",
        "La Regresión Logística mostró mejor precisión general, siendo más efectiva para identificar correctamente a los clientes que no cancelarán, pero con menor capacidad para detectar todos los casos de churn (recall menor).\n",
        "\n",
        "El Random Forest logró un mejor recall, detectando más clientes que cancelan, aunque con un aumento en los falsos positivos, reflejando un balance distinto entre sensibilidad y especificidad.\n",
        "\n",
        "Estrategias de Retención Propuestas\n",
        "Con base en estos resultados, se sugieren las siguientes acciones para mejorar la retención:\n",
        "\n",
        "Segmentación focalizada: Dirigir campañas a clientes con alto gasto total, especialmente aquellos que utilizan métodos de pago electrónicos y que tienen contratos cortos o flexibles.\n",
        "\n",
        "Incentivar contratos a largo plazo: Promover beneficios o descuentos para que los clientes opten por contratos de uno o dos años, disminuyendo la probabilidad de cancelación.\n",
        "\n",
        "Mejorar experiencia en servicios de fibra óptica y streaming: Investigar posibles causas de insatisfacción en estos segmentos para optimizar la oferta y soporte técnico.\n",
        "\n",
        "Programas de fidelización para clientes con menor antigüedad: Para aumentar su compromiso y reducir churn en etapas tempranas."
      ],
      "metadata": {
        "id": "5cTDVklGnqek"
      },
      "execution_count": null,
      "outputs": []
    }
  ]
}